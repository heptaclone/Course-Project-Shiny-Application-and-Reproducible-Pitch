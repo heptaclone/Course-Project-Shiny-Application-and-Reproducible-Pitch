{
  "nbformat": 4,
  "nbformat_minor": 0,
  "metadata": {
    "colab": {
      "provenance": [],
      "authorship_tag": "ABX9TyPJGI7lLOqpVxDm4770QdA+",
      "include_colab_link": true
    },
    "kernelspec": {
      "name": "python3",
      "display_name": "Python 3"
    },
    "language_info": {
      "name": "python"
    }
  },
  "cells": [
    {
      "cell_type": "markdown",
      "metadata": {
        "id": "view-in-github",
        "colab_type": "text"
      },
      "source": [
        "<a href=\"https://colab.research.google.com/github/heptaclone/Course-Project-Shiny-Application-and-Reproducible-Pitch/blob/main/Rosalind_Problems.ipynb\" target=\"_parent\"><img src=\"https://colab.research.google.com/assets/colab-badge.svg\" alt=\"Open In Colab\"/></a>"
      ]
    },
    {
      "cell_type": "markdown",
      "source": [
        "##*Counting DNA Nucleotides*"
      ],
      "metadata": {
        "id": "dHhFoqfPujYe"
      }
    },
    {
      "cell_type": "code",
      "source": [
        "dna = \"AGCTTTTCATTCTGACTGCAACGGGCAATATGTCTCTGTGTGGATTAAAAAAAGAGTGTCTGATAGCAGC\""
      ],
      "metadata": {
        "id": "09iDEVHRuUfP"
      },
      "execution_count": null,
      "outputs": []
    },
    {
      "cell_type": "code",
      "source": [
        "A = 0\n",
        "T = 0\n",
        "G = 0\n",
        "C = 0\n",
        "\n",
        "for nt in dna:\n",
        "  if nt == 'A':\n",
        "    A += 1\n",
        "  elif nt == 'T':\n",
        "    T += 1\n",
        "  elif nt == 'C':\n",
        "    C += 1\n",
        "  elif nt == 'G':\n",
        "    G += 1\n",
        "\n",
        "print(A, C, G, T)\n"
      ],
      "metadata": {
        "colab": {
          "base_uri": "https://localhost:8080/"
        },
        "id": "qjJ8iEieubDx",
        "outputId": "658620c3-87ec-43b5-e40f-2ac2b0e0dbf2"
      },
      "execution_count": null,
      "outputs": [
        {
          "output_type": "stream",
          "name": "stdout",
          "text": [
            "20 12 17 21\n"
          ]
        }
      ]
    },
    {
      "cell_type": "markdown",
      "source": [
        "##*Rabbits and Recurrence Relations*"
      ],
      "metadata": {
        "id": "KAHN9xHRgA0f"
      }
    },
    {
      "cell_type": "code",
      "source": [
        "def Fibonacci_Loop_Pythonic(months, offsprings):\n",
        "  parrent, child = 1, 1\n",
        "  for itr in range(months - 1):\n",
        "    child, parrent = parrent, parrent + (child * offsprings)\n",
        "  return child"
      ],
      "metadata": {
        "id": "fWEWYKDcgQ5z"
      },
      "execution_count": null,
      "outputs": []
    },
    {
      "cell_type": "code",
      "source": [
        "print(Fibonacci_Loop_Pythonic(5, 2))"
      ],
      "metadata": {
        "colab": {
          "base_uri": "https://localhost:8080/"
        },
        "id": "a_r3AQX-g7xx",
        "outputId": "f32bae36-3684-4687-d1c8-92e41321020b"
      },
      "execution_count": null,
      "outputs": [
        {
          "output_type": "stream",
          "name": "stdout",
          "text": [
            "11\n"
          ]
        }
      ]
    },
    {
      "cell_type": "markdown",
      "source": [
        "##*Consensus and Profile*"
      ],
      "metadata": {
        "id": "7gd3SjFLhef2"
      }
    },
    {
      "cell_type": "code",
      "source": [
        "sequences = [\"ATCCAGCT\",\n",
        "             \"GGGCAACT\",\n",
        "             \"ATGGATCT\",\n",
        "             \"AAGCAACC\",\n",
        "             \"TTGGAACT\",\n",
        "             \"ATGCCATT\",\n",
        "             \"ATGGCACT\"]\n",
        "n = 8\n",
        "\n",
        "profile_matrix = {\n",
        "    'A': [0]*n,\n",
        "    'C': [0]*n,\n",
        "    'G': [0]*n,\n",
        "    'T': [0]*n\n",
        "}\n",
        "\n",
        "for dna in sequences:\n",
        "  for position, nucleotide in enumerate(dna):\n",
        "    profile_matrix[nucleotide][position] += 1\n",
        "profile_matrix"
      ],
      "metadata": {
        "colab": {
          "base_uri": "https://localhost:8080/"
        },
        "id": "NJ72dkuRmMuj",
        "outputId": "43d694e6-334e-4075-f56c-b716f5ef2284"
      },
      "execution_count": null,
      "outputs": [
        {
          "output_type": "execute_result",
          "data": {
            "text/plain": [
              "{'A': [5, 1, 0, 0, 5, 5, 0, 0],\n",
              " 'C': [0, 0, 1, 4, 2, 0, 6, 1],\n",
              " 'G': [1, 1, 6, 3, 0, 1, 0, 0],\n",
              " 'T': [1, 5, 0, 0, 0, 1, 1, 6]}"
            ]
          },
          "metadata": {},
          "execution_count": 6
        }
      ]
    },
    {
      "cell_type": "code",
      "source": [
        "result = []\n",
        "\n",
        "for position in range(n):\n",
        "  max_count = 0\n",
        "  max_nucleotide = None\n",
        "  for nucleotide in ['A', 'C', 'G', 'T']:\n",
        "    count = profile_matrix[nucleotide][position]\n",
        "    if count > max_count:\n",
        "      max_count = count\n",
        "      max_nucleotide = nucleotide\n",
        "  result.append(max_nucleotide)\n",
        "\n",
        "consensus = ''.join(result)\n",
        "consensus\n"
      ],
      "metadata": {
        "colab": {
          "base_uri": "https://localhost:8080/",
          "height": 36
        },
        "id": "ewkIdDdOn_IC",
        "outputId": "0339e56a-7976-401a-a179-31344f093475"
      },
      "execution_count": null,
      "outputs": [
        {
          "output_type": "execute_result",
          "data": {
            "text/plain": [
              "'ATGCAACT'"
            ],
            "application/vnd.google.colaboratory.intrinsic+json": {
              "type": "string"
            }
          },
          "metadata": {},
          "execution_count": 7
        }
      ]
    },
    {
      "cell_type": "markdown",
      "source": [
        "##*Finding Motif sequences in DNA*"
      ],
      "metadata": {
        "id": "dMXgJcwGqLev"
      }
    },
    {
      "cell_type": "code",
      "source": [
        "s = \"GATATATGCATATACTT\"\n",
        "t = \"ATAT\""
      ],
      "metadata": {
        "id": "G27Qkbb9qPf-"
      },
      "execution_count": null,
      "outputs": []
    },
    {
      "cell_type": "code",
      "source": [
        "for position in range(len(s)):\n",
        "  if s[position:].startswith(t):\n",
        "    print(position+1)"
      ],
      "metadata": {
        "colab": {
          "base_uri": "https://localhost:8080/"
        },
        "id": "pezValW4qWLZ",
        "outputId": "1dcf3316-7d34-4839-99a7-e67fe6ead3aa"
      },
      "execution_count": null,
      "outputs": [
        {
          "output_type": "stream",
          "name": "stdout",
          "text": [
            "2\n",
            "4\n",
            "10\n"
          ]
        }
      ]
    },
    {
      "cell_type": "markdown",
      "source": [
        "##*Counting Point Mutations in DNA*"
      ],
      "metadata": {
        "id": "n1JLK9IpsT2o"
      }
    },
    {
      "cell_type": "code",
      "source": [
        "s = \"GAGCCTACTAACGGGAT\"\n",
        "t = \"CATCGTAATGACGGCCT\""
      ],
      "metadata": {
        "id": "vVwVmKcJsjof"
      },
      "execution_count": null,
      "outputs": []
    },
    {
      "cell_type": "code",
      "source": [
        "def hamming_distance(s, t):\n",
        "  if len(s) != len(t):\n",
        "    print(\"Strings Are Not Equal Size!\")\n",
        "  else:\n",
        "    hamming_distance = 0\n",
        "    for position in range(len(s)):\n",
        "      if s[position] != t[position]:\n",
        "        hamming_distance = hamming_distance + 1\n",
        "    return hamming_distance\n",
        "\n",
        "print(f\"Hamming Distance For This Example Is: {hamming_distance(s, t)}\")"
      ],
      "metadata": {
        "colab": {
          "base_uri": "https://localhost:8080/"
        },
        "id": "Rpw5Bl5kspGa",
        "outputId": "63c78ac0-11d5-434e-a3de-84fe022de3a1"
      },
      "execution_count": null,
      "outputs": [
        {
          "output_type": "stream",
          "name": "stdout",
          "text": [
            "Hamming Distance For This Example Is: 7\n"
          ]
        }
      ]
    }
  ]
}